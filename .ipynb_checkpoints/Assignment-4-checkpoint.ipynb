{
 "cells": [
  {
   "cell_type": "code",
   "execution_count": 102,
   "id": "1d4db762",
   "metadata": {},
   "outputs": [
    {
     "name": "stdout",
     "output_type": "stream",
     "text": [
      "[0.         0.         0.         0.         0.         0.60205999\n",
      " 0.60205999 0.         0.         0.        ]\n",
      "[0.         0.         0.         0.         0.60205999 0.60205999\n",
      " 0.60205999 0.60205999 0.         0.60205999]\n",
      "[0.         0.60205999 0.         0.60205999 0.         0.\n",
      " 0.60205999 0.         0.         0.        ]\n",
      "[0.0, 0.06, 0.0, 0.06, 0.48, 1.08, 1.14, 0.48, 0.0, 0.48]\n"
     ]
    }
   ],
   "source": [
    "import numpy as np\n",
    "import math\n",
    " \n",
    "D0 = \"king palace jungle sleeps\"\n",
    "D1 = \"jungle lion fire king discovery\"\n",
    "D2 = \"king timon mufasa\"\n",
    "D3 = \"timon lion simba\"\n",
    "q = \"lion king\"\n",
    "corpus = [D0,D1,D2,D3,q]\n",
    "word_bag  = set(D0.split()+D1.split()+D2.split()+D3.split()+q.split())\n",
    "positiveFeedback = [D1]\n",
    "negativeFeedback = [D3]\n",
    "query = [q]\n",
    "\n",
    "\n",
    "def CalcAvg(feedback):\n",
    "    ele = []\n",
    "    arr = []\n",
    "    res = []\n",
    "    for x in feedback:\n",
    "        ele = x.split()\n",
    "        for y in word_bag:\n",
    "            if ele.count(y)>0:\n",
    "                arr.append(math.log((4/ele.count(y)),10))\n",
    "            else: arr.append(0)\n",
    "        res.append(arr)\n",
    "        arr = []\n",
    "        \n",
    "    fin = [0] * len(word_bag)\n",
    "    for i in range(len(res)):\n",
    "        fin = np.add(res[i],fin)\n",
    "    print(fin)\n",
    "    return fin\n",
    "    \n",
    "    \n",
    "def Rocchio(alpha, beta, gamma):\n",
    "    a = CalcAvg(query)\n",
    "    b = CalcAvg(positiveFeedback)\n",
    "    c = CalcAvg(negativeFeedback)\n",
    "    rocchio = []\n",
    "    for i in range(len(word_bag)):\n",
    "        res = round(((alpha * a[i])+ (beta * (1/len(positiveFeedback)) * b[i]) + (gamma * (1/len(negativeFeedback)) * c[i])),2)\n",
    "        rocchio.append(res)\n",
    "    print(rocchio)\n",
    "        \n",
    "Rocchio(1, 0.8, 0.1)"
   ]
  },
  {
   "cell_type": "code",
   "execution_count": null,
   "id": "ef003356",
   "metadata": {},
   "outputs": [],
   "source": []
  }
 ],
 "metadata": {
  "kernelspec": {
   "display_name": "Python 3 (ipykernel)",
   "language": "python",
   "name": "python3"
  },
  "language_info": {
   "codemirror_mode": {
    "name": "ipython",
    "version": 3
   },
   "file_extension": ".py",
   "mimetype": "text/x-python",
   "name": "python",
   "nbconvert_exporter": "python",
   "pygments_lexer": "ipython3",
   "version": "3.9.7"
  }
 },
 "nbformat": 4,
 "nbformat_minor": 5
}
