{
 "cells": [
  {
   "cell_type": "code",
   "execution_count": 102,
   "id": "1d4db762",
   "metadata": {},
   "outputs": [
    {
     "name": "stdout",
     "output_type": "stream",
     "text": [
      "[0.         0.         0.         0.         0.         0.60205999\n",
      " 0.60205999 0.         0.         0.        ]\n",
      "[0.         0.         0.         0.         0.60205999 0.60205999\n",
      " 0.60205999 0.60205999 0.         0.60205999]\n",
      "[0.         0.60205999 0.         0.60205999 0.         0.\n",
      " 0.60205999 0.         0.         0.        ]\n",
      "[0.0, 0.06, 0.0, 0.06, 0.48, 1.08, 1.14, 0.48, 0.0, 0.48]\n"
     ]
    }
   ],
   "source": [
    "import numpy as np\n",
    "import math\n",
    " \n",
    "D0 = \"king palace jungle sleeps\"\n",
    "D1 = \"jungle lion fire king discovery\"\n",
    "D2 = \"king timon mufasa\"\n",
    "D3 = \"timon lion simba\"\n",
    "q = \"lion king\"\n",
    "corpus = [D0,D1,D2,D3,q]\n",
    "word_bag  = set(D0.split()+D1.split()+D2.split()+D3.split()+q.split())\n",
    "positiveFeedback = [D1]\n",
    "negativeFeedback = [D3]\n",
    "query = [q]\n",
    "\n",
    "\n",
    "def CalcAvg(feedback):\n",
    "    ele = []\n",
    "    arr = []\n",
    "    res = []\n",
    "    for x in feedback:\n",
    "        ele = x.split()\n",
    "        for y in word_bag:\n",
    "            if ele.count(y)>0:\n",
    "                arr.append(math.log((4/ele.count(y)),10))\n",
    "            else: arr.append(0)\n",
    "        res.append(arr)\n",
    "        arr = []\n",
    "        \n",
    "    fin = [0] * len(word_bag)\n",
    "    for i in range(len(res)):\n",
    "        fin = np.add(res[i],fin)\n",
    "    print(fin)\n",
    "    return fin\n",
    "    \n",
    "    \n",
    "def Rocchio(alpha, beta, gamma):\n",
    "    a = CalcAvg(query)\n",
    "    b = CalcAvg(positiveFeedback)\n",
    "    c = CalcAvg(negativeFeedback)\n",
    "    rocchio = []\n",
    "    for i in range(len(word_bag)):\n",
    "        res = round(((alpha * a[i])+ (beta * (1/len(positiveFeedback)) * b[i]) + (gamma * (1/len(negativeFeedback)) * c[i])),2)\n",
    "        rocchio.append(res)\n",
    "    print(rocchio)\n",
    "        \n",
    "Rocchio(1, 0.8, 0.1)"
   ]
  },
  {
   "cell_type": "markdown",
   "id": "5442496a",
   "metadata": {},
   "source": [
    "Let D = {d0, d1, d2, d3} with:\n",
    "\n",
    "d0 = \"regression weak classification intelligence kernel\"\n",
    "d1 = \"network weights weak classification\"\n",
    "d2 = \"regression weak tangent\"\n",
    "d3 = \"weak classification artificial\"\n",
    " \n",
    "\n",
    "Model the documents D={d0, d1, d2, d3} as vectors.\n",
    "\n",
    " \n",
    "\n",
    "Please use tf-idf as a modeling choice for weights in our documents.\n",
    "\n",
    "Order is as following :\n",
    "\n",
    "<'kernel', 'weights', 'classification', 'weak', 'tangent', 'artificial', 'network', 'intelligence', 'regression'>"
   ]
  },
  {
   "cell_type": "code",
   "execution_count": 17,
   "id": "a79572be",
   "metadata": {},
   "outputs": [],
   "source": [
    "import math"
   ]
  },
  {
   "cell_type": "code",
   "execution_count": 18,
   "id": "2a6f08d9",
   "metadata": {},
   "outputs": [],
   "source": [
    "D0 = \"king palace jungle sleeps\"\n",
    "D1 = \"jungle lion fire king discovery\"\n",
    "D2 = \"king timon mufasa\"\n",
    "D3 = \"timon lion simba\"\n",
    "q = \"lion king\""
   ]
  },
  {
   "cell_type": "code",
   "execution_count": 19,
   "id": "a059f1a3",
   "metadata": {},
   "outputs": [],
   "source": [
    "corpus = [D0,D1,D2,D3,q] "
   ]
  },
  {
   "cell_type": "code",
   "execution_count": 23,
   "id": "30f3d6c2",
   "metadata": {},
   "outputs": [
    {
     "data": {
      "text/plain": [
       "{'discovery',\n",
       " 'fire',\n",
       " 'jungle',\n",
       " 'king',\n",
       " 'lion',\n",
       " 'mufasa',\n",
       " 'palace',\n",
       " 'simba',\n",
       " 'sleeps',\n",
       " 'timon'}"
      ]
     },
     "execution_count": 23,
     "metadata": {},
     "output_type": "execute_result"
    }
   ],
   "source": [
    "word_bag  = set(D0.split()+D1.split()+D2.split()+D3.split()+q.split())\n",
    "word_bag"
   ]
  },
  {
   "cell_type": "code",
   "execution_count": 21,
   "id": "b40bb783",
   "metadata": {},
   "outputs": [
    {
     "data": {
      "text/plain": [
       "['king palace jungle sleeps',\n",
       " 'jungle lion fire king discovery',\n",
       " 'king timon mufasa',\n",
       " 'timon lion simba',\n",
       " 'lion king']"
      ]
     },
     "execution_count": 21,
     "metadata": {},
     "output_type": "execute_result"
    }
   ],
   "source": [
    "corpus"
   ]
  },
  {
   "cell_type": "code",
   "execution_count": 24,
   "id": "b7aa13b9",
   "metadata": {},
   "outputs": [],
   "source": [
    "doc = {'D0':\"king palace jungle sleeps\", 'D1':\"jungle lion fire king discovery\", 'D2':\"king timon mufasa\",'D3':\"timon lion simba\"}\n",
    "dict_doc = {'D0':\"king palace jungle sleeps\", 'D1':\"jungle lion fire king discovery\", 'D2':\"king timon mufasa\",'D3':\"timon lion simba\",'q':\"lion king\"}"
   ]
  },
  {
   "cell_type": "code",
   "execution_count": 25,
   "id": "d29a0e24",
   "metadata": {},
   "outputs": [
    {
     "data": {
      "text/plain": [
       "['palace',\n",
       " 'sleeps',\n",
       " 'jungle',\n",
       " 'fire',\n",
       " 'timon',\n",
       " 'mufasa',\n",
       " 'simba',\n",
       " 'king',\n",
       " 'lion',\n",
       " 'discovery']"
      ]
     },
     "execution_count": 25,
     "metadata": {},
     "output_type": "execute_result"
    }
   ],
   "source": [
    "word_bag_list = list(word_bag)\n",
    "word_bag_list"
   ]
  },
  {
   "cell_type": "code",
   "execution_count": 26,
   "id": "e0920f47",
   "metadata": {},
   "outputs": [
    {
     "data": {
      "text/plain": [
       "[0.6020599913279623,\n",
       " 0.6020599913279623,\n",
       " 0.30102999566398114,\n",
       " 0.6020599913279623,\n",
       " 0.30102999566398114,\n",
       " 0.6020599913279623,\n",
       " 0.6020599913279623,\n",
       " 0.1249387366082999,\n",
       " 0.30102999566398114,\n",
       " 0.6020599913279623]"
      ]
     },
     "execution_count": 26,
     "metadata": {},
     "output_type": "execute_result"
    }
   ],
   "source": [
    "tf_word = {}\n",
    "for word in word_bag_list:\n",
    "    count = 0\n",
    "    for key in doc:\n",
    "        if(word in doc[key]):\n",
    "            count+=1\n",
    "            \n",
    "    tf_word[word] = math.log((4/count),10)\n",
    "\n",
    "list_tf = list(tf_word.values())\n",
    "list_tf"
   ]
  },
  {
   "cell_type": "code",
   "execution_count": 30,
   "id": "fc26fe3d",
   "metadata": {},
   "outputs": [
    {
     "data": {
      "text/plain": [
       "{'D0': [1, 1, 1, 0, 0, 0, 0, 1, 0, 0],\n",
       " 'D1': [0, 0, 1, 1, 0, 0, 0, 1, 1, 1],\n",
       " 'D2': [0, 0, 0, 0, 1, 1, 0, 1, 0, 0],\n",
       " 'D3': [0, 0, 0, 0, 1, 0, 1, 0, 1, 0],\n",
       " 'q': [0, 0, 0, 0, 0, 0, 0, 1, 1, 0]}"
      ]
     },
     "execution_count": 30,
     "metadata": {},
     "output_type": "execute_result"
    }
   ],
   "source": [
    "dict_doc_vectors = {}\n",
    "dict_doc = {'D0':\"king palace jungle sleeps\", 'D1':\"jungle lion fire king discovery\", 'D2':\"king timon mufasa\",'D3':\"timon lion simba\",'q':\"lion king\"}\n",
    "for key in dict_doc:\n",
    "    count = []\n",
    "    words_doc = dict_doc[key].split()\n",
    "    for word in word_bag:\n",
    "        count.append(words_doc.count(word))\n",
    "    dict_doc_vectors[key] = count\n",
    "dict_doc_vectors"
   ]
  },
  {
   "cell_type": "code",
   "execution_count": 34,
   "id": "81b44dba",
   "metadata": {},
   "outputs": [
    {
     "data": {
      "text/plain": [
       "{'D0': [0.6020599913279623,\n",
       "  0.6020599913279623,\n",
       "  0.30102999566398114,\n",
       "  0.0,\n",
       "  0.0,\n",
       "  0.0,\n",
       "  0.0,\n",
       "  0.1249387366082999,\n",
       "  0.0,\n",
       "  0.0],\n",
       " 'D1': [0.0,\n",
       "  0.0,\n",
       "  0.30102999566398114,\n",
       "  0.6020599913279623,\n",
       "  0.0,\n",
       "  0.0,\n",
       "  0.0,\n",
       "  0.1249387366082999,\n",
       "  0.30102999566398114,\n",
       "  0.6020599913279623],\n",
       " 'D2': [0.0,\n",
       "  0.0,\n",
       "  0.0,\n",
       "  0.0,\n",
       "  0.30102999566398114,\n",
       "  0.6020599913279623,\n",
       "  0.0,\n",
       "  0.1249387366082999,\n",
       "  0.0,\n",
       "  0.0],\n",
       " 'D3': [0.0,\n",
       "  0.0,\n",
       "  0.0,\n",
       "  0.0,\n",
       "  0.30102999566398114,\n",
       "  0.0,\n",
       "  0.6020599913279623,\n",
       "  0.0,\n",
       "  0.30102999566398114,\n",
       "  0.0],\n",
       " 'q': [0.0,\n",
       "  0.0,\n",
       "  0.0,\n",
       "  0.0,\n",
       "  0.0,\n",
       "  0.0,\n",
       "  0.0,\n",
       "  0.1249387366082999,\n",
       "  0.30102999566398114,\n",
       "  0.0]}"
      ]
     },
     "execution_count": 34,
     "metadata": {},
     "output_type": "execute_result"
    }
   ],
   "source": [
    "docs_tf = {}\n",
    "for key in dict_doc_vectors:\n",
    "    docs_tf[key] = [a*b for a,b in zip(list_tf,dict_doc_vectors[key])]\n",
    "docs_tf"
   ]
  },
  {
   "cell_type": "code",
   "execution_count": 33,
   "id": "5a8ab4a4",
   "metadata": {},
   "outputs": [
    {
     "name": "stdout",
     "output_type": "stream",
     "text": [
      "[0.0, 0.0, 0.24082399653118491, 0.48164799306236983, 0, 0.0, 0, 0.22488972589493983, 0.511750992628768, 0.48164799306236983]\n",
      "[0.0, 0.0, 0.030102999566398114, 0.06020599913279623, 0, 0.0, 0, 0.1374326102691299, 0.06020599913279623, 0.06020599913279623]\n",
      "[0.0, 0.0, 0.30102999566398114, 0.6020599913279623, 0, 0.0, 0, 0.2498774732165998, 0.30102999566398114, 0.6020599913279623]\n"
     ]
    }
   ],
   "source": [
    "def Rocchio(alpha, beta, gamma):\n",
    "    d = [a + b - c for a, b, c in zip([i * alpha for i in docs_tf['q']], [i * beta for i in docs_tf['D1']],  [i * gamma for i in docs_tf['D3']])]\n",
    "    for i in range(0,len(d)):\n",
    "        if d[i]<0:\n",
    "            d[i] = 0           \n",
    "    return d\n",
    "\n",
    "print(Rocchio(1,0.8,0.1))\n",
    "print(Rocchio(1,0.1,0.9))\n",
    "print(Rocchio(1,1,1))"
   ]
  }
 ],
 "metadata": {
  "kernelspec": {
   "display_name": "Python 3 (ipykernel)",
   "language": "python",
   "name": "python3"
  },
  "language_info": {
   "codemirror_mode": {
    "name": "ipython",
    "version": 3
   },
   "file_extension": ".py",
   "mimetype": "text/x-python",
   "name": "python",
   "nbconvert_exporter": "python",
   "pygments_lexer": "ipython3",
   "version": "3.9.7"
  }
 },
 "nbformat": 4,
 "nbformat_minor": 5
}
