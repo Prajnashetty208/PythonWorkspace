{
 "cells": [
  {
   "cell_type": "code",
   "execution_count": 34,
   "id": "a0ad3701",
   "metadata": {},
   "outputs": [
    {
     "name": "stdout",
     "output_type": "stream",
     "text": [
      "Precision  0  : 1.0\n",
      "Precision  1  : 0.7894736842105263\n",
      "Precision  2  : 1.0\n",
      "Recall  0  : 1.0\n",
      "Recall  1  : 1.0\n",
      "Recall  2  : 0.6363636363636364\n"
     ]
    }
   ],
   "source": [
    "import numpy as np\n",
    "    \n",
    "a = np.array(([19, 0,0], [0, 15,0], [0, 4, 7]))\n",
    "\n",
    "def precision(a):\n",
    "    for i in range(len(a)): \n",
    "        fp = 0\n",
    "        tp = a[i][i]\n",
    "        for j in range(len(a)):\n",
    "            if(i!=j):\n",
    "                fp = fp + a[j][i]\n",
    "        p = tp/(tp + fp)\n",
    "        print(\"Precision \",i,\" :\" , p)\n",
    "\n",
    "def recall(a): \n",
    "    for i in range(len(a)): \n",
    "        fn = 0 \n",
    "        tp = a[i][i]\n",
    "        for j in range(len(a)):\n",
    "            if(i!=j):\n",
    "                fn = fn + a[i][j]\n",
    "        r = tp/(tp+fn)\n",
    "        print(\"Recall \",i,\" :\", r)\n",
    "        \n",
    "        \n",
    "precision(a)\n",
    "recall(a)"
   ]
  },
  {
   "cell_type": "code",
   "execution_count": 36,
   "id": "2a350866",
   "metadata": {},
   "outputs": [
    {
     "name": "stdout",
     "output_type": "stream",
     "text": [
      "Precision for element  0  : 1.0\n",
      "Precision for element  1  : 0.7894736842105263\n",
      "Precision for element  2  : 1.0\n",
      "Recall for element  0  : 1.0\n",
      "Recall for element  1  : 1.0\n",
      "Recall for element  2  : 0.6363636363636364\n"
     ]
    }
   ],
   "source": [
    "import numpy as np\n",
    "    \n",
    "a = np.array(([19, 0,0], [0, 15,0], [0, 4, 7]))\n",
    "\n",
    "def precision(matrix):\n",
    "\tfor i in range(len(matrix)):\n",
    "\t\tfp = 0\n",
    "\t\ttp = matrix[i][i]\n",
    "\t\tfor j in range(len(matrix)):\n",
    "\t\t\tif(i!=j):\n",
    "\t\t\t\tfp=fp+matrix[j][i]\n",
    "\t\tp = tp/(tp + fp)\n",
    "\t\tprint(\"Precision for element \",i,\" :\", p)\n",
    "\n",
    "def recall(matrix): \n",
    "\tfor i in range(len(matrix)):\n",
    "\t\tfn = 0\n",
    "\t\ttp = matrix[i][i]\n",
    "\t\tfor j in range(len(matrix)):\n",
    "\t\t\tif(i!=j):\n",
    "\t\t\t\tfn=fn+matrix[i][j]\n",
    "\t\tr = tp/(tp + fn)\n",
    "\t\tprint(\"Recall for element \",i,\" :\", r)\n",
    "\n",
    "precision(a)\n",
    "recall(a)"
   ]
  },
  {
   "cell_type": "code",
   "execution_count": null,
   "id": "0c4050fc",
   "metadata": {},
   "outputs": [],
   "source": []
  }
 ],
 "metadata": {
  "kernelspec": {
   "display_name": "Python 3 (ipykernel)",
   "language": "python",
   "name": "python3"
  },
  "language_info": {
   "codemirror_mode": {
    "name": "ipython",
    "version": 3
   },
   "file_extension": ".py",
   "mimetype": "text/x-python",
   "name": "python",
   "nbconvert_exporter": "python",
   "pygments_lexer": "ipython3",
   "version": "3.9.7"
  }
 },
 "nbformat": 4,
 "nbformat_minor": 5
}
