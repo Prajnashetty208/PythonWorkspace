{
 "cells": [
  {
   "cell_type": "code",
   "execution_count": 1,
   "id": "e3606cc1",
   "metadata": {},
   "outputs": [
    {
     "name": "stdout",
     "output_type": "stream",
     "text": [
      "Hello world\n"
     ]
    }
   ],
   "source": [
    "print(\"Hello world\")"
   ]
  },
  {
   "cell_type": "code",
   "execution_count": 2,
   "id": "e887730d",
   "metadata": {},
   "outputs": [
    {
     "name": "stdout",
     "output_type": "stream",
     "text": [
      "Hello \n",
      " world\n"
     ]
    }
   ],
   "source": [
    "print(\"Hello \\n world\")"
   ]
  },
  {
   "cell_type": "code",
   "execution_count": 4,
   "id": "3c0926a3",
   "metadata": {},
   "outputs": [
    {
     "name": "stdout",
     "output_type": "stream",
     "text": [
      "Hello \" world\n"
     ]
    }
   ],
   "source": [
    "print(\"Hello \\\" world\")"
   ]
  },
  {
   "cell_type": "code",
   "execution_count": 7,
   "id": "8f3a6fca",
   "metadata": {},
   "outputs": [
    {
     "name": "stdout",
     "output_type": "stream",
     "text": [
      "prajna shetty\n",
      "PRAJNA SHETTY\n",
      "False\n",
      "False\n"
     ]
    }
   ],
   "source": [
    "word = \"Prajna Shetty\"\n",
    "print(word.lower())\n",
    "print(word.upper())\n",
    "print(word.islower())\n",
    "print(word.isupper())"
   ]
  },
  {
   "cell_type": "code",
   "execution_count": 30,
   "id": "eb1079ad",
   "metadata": {},
   "outputs": [
    {
     "name": "stdout",
     "output_type": "stream",
     "text": [
      "13\n"
     ]
    }
   ],
   "source": [
    "print(len(word))"
   ]
  },
  {
   "cell_type": "code",
   "execution_count": 31,
   "id": "8d1c9ff0",
   "metadata": {},
   "outputs": [
    {
     "name": "stdout",
     "output_type": "stream",
     "text": [
      "word P\n"
     ]
    }
   ],
   "source": [
    "print(\"word \" + word[0])"
   ]
  },
  {
   "cell_type": "code",
   "execution_count": 12,
   "id": "347bfe69",
   "metadata": {},
   "outputs": [
    {
     "name": "stdout",
     "output_type": "stream",
     "text": [
      "7\n"
     ]
    }
   ],
   "source": [
    "print(word.index(\"S\"))"
   ]
  },
  {
   "cell_type": "code",
   "execution_count": 13,
   "id": "0fddc9ef",
   "metadata": {},
   "outputs": [
    {
     "name": "stdout",
     "output_type": "stream",
     "text": [
      "Pratheek Shetty\n"
     ]
    }
   ],
   "source": [
    "print(word.replace(\"Prajna\",\"Pratheek\"))"
   ]
  },
  {
   "cell_type": "code",
   "execution_count": 14,
   "id": "466606b6",
   "metadata": {},
   "outputs": [
    {
     "name": "stdout",
     "output_type": "stream",
     "text": [
      "3\n"
     ]
    }
   ],
   "source": [
    "num = 3\n",
    "print(str(num))"
   ]
  },
  {
   "cell_type": "code",
   "execution_count": 15,
   "id": "b50ec288",
   "metadata": {},
   "outputs": [
    {
     "name": "stdout",
     "output_type": "stream",
     "text": [
      "7\n"
     ]
    }
   ],
   "source": [
    "dig = -7\n",
    "print(abs(dig))"
   ]
  },
  {
   "cell_type": "code",
   "execution_count": 17,
   "id": "0e801f10",
   "metadata": {},
   "outputs": [
    {
     "name": "stdout",
     "output_type": "stream",
     "text": [
      "49\n"
     ]
    }
   ],
   "source": [
    "print(pow(dig,2))"
   ]
  },
  {
   "cell_type": "code",
   "execution_count": 18,
   "id": "4353e229",
   "metadata": {},
   "outputs": [
    {
     "name": "stdout",
     "output_type": "stream",
     "text": [
      "3\n",
      "-7\n"
     ]
    }
   ],
   "source": [
    "print(max(dig,num))\n",
    "print(min(dig,num))"
   ]
  },
  {
   "cell_type": "code",
   "execution_count": 19,
   "id": "d766e7d4",
   "metadata": {},
   "outputs": [
    {
     "name": "stdout",
     "output_type": "stream",
     "text": [
      "4\n"
     ]
    }
   ],
   "source": [
    "print(round(3.7))"
   ]
  },
  {
   "cell_type": "code",
   "execution_count": 22,
   "id": "451e18a9",
   "metadata": {},
   "outputs": [
    {
     "name": "stdout",
     "output_type": "stream",
     "text": [
      "3\n",
      "4\n",
      "1.9235384061671346\n"
     ]
    }
   ],
   "source": [
    "from math import *\n",
    "\n",
    "print(floor(3.7))\n",
    "print(ceil(3.7))\n",
    "print(sqrt(3.7))"
   ]
  },
  {
   "cell_type": "code",
   "execution_count": 24,
   "id": "65eacf23",
   "metadata": {},
   "outputs": [
    {
     "name": "stdout",
     "output_type": "stream",
     "text": [
      "Enter your name: Sai\n",
      "Sai\n"
     ]
    }
   ],
   "source": [
    "name = input(\"Enter your name: \")\n",
    "print(name)"
   ]
  },
  {
   "cell_type": "code",
   "execution_count": 26,
   "id": "b54d89b5",
   "metadata": {},
   "outputs": [
    {
     "name": "stdout",
     "output_type": "stream",
     "text": [
      "Enter a number 1\n",
      "Enter a number 2\n",
      "3\n"
     ]
    }
   ],
   "source": [
    "a = input(\"Enter a number \")\n",
    "b = input(\"Enter a number \")\n",
    "print(int(a)+int(b))"
   ]
  },
  {
   "cell_type": "code",
   "execution_count": 27,
   "id": "087c3624",
   "metadata": {},
   "outputs": [
    {
     "name": "stdout",
     "output_type": "stream",
     "text": [
      "Enter a number 3.9\n",
      "Enter a number 9.0\n",
      "12.9\n"
     ]
    }
   ],
   "source": [
    "a = input(\"Enter a number \")\n",
    "b = input(\"Enter a number \")\n",
    "print(float(a)+float(b))"
   ]
  },
  {
   "cell_type": "code",
   "execution_count": 52,
   "id": "1ae8e8d5",
   "metadata": {},
   "outputs": [
    {
     "name": "stdout",
     "output_type": "stream",
     "text": [
      "['lmh', 'ghi']\n"
     ]
    }
   ],
   "source": [
    "peep = [\"abc\",\"lmh\",\"ghi\",\"yuo\"]\n",
    "print(peep[1:3])"
   ]
  },
  {
   "cell_type": "code",
   "execution_count": 33,
   "id": "077d8f27",
   "metadata": {},
   "outputs": [
    {
     "name": "stdout",
     "output_type": "stream",
     "text": [
      "['def', 'ghi', 'jkl']\n"
     ]
    }
   ],
   "source": [
    "print(peep[1:])"
   ]
  },
  {
   "cell_type": "code",
   "execution_count": 34,
   "id": "3f9b797f",
   "metadata": {},
   "outputs": [
    {
     "name": "stdout",
     "output_type": "stream",
     "text": [
      "['abc', 'def', 'ghi']\n"
     ]
    }
   ],
   "source": [
    "print(peep[:3])"
   ]
  },
  {
   "cell_type": "code",
   "execution_count": 39,
   "id": "ed12e739",
   "metadata": {},
   "outputs": [
    {
     "name": "stdout",
     "output_type": "stream",
     "text": [
      "['abc', 'def', 'ghi', 'jkl', 1, 2, 3]\n"
     ]
    }
   ],
   "source": [
    "nums = [1,2,3]\n",
    "peep.extend(nums)\n",
    "print(peep)"
   ]
  },
  {
   "cell_type": "code",
   "execution_count": 43,
   "id": "4af11532",
   "metadata": {},
   "outputs": [
    {
     "name": "stdout",
     "output_type": "stream",
     "text": [
      "['abc', 'def', 'ghi', 'jkl', 'mno']\n"
     ]
    }
   ],
   "source": [
    "peep.append(\"mno\")\n",
    "print(peep)"
   ]
  },
  {
   "cell_type": "code",
   "execution_count": 44,
   "id": "1a37bc8e",
   "metadata": {},
   "outputs": [
    {
     "name": "stdout",
     "output_type": "stream",
     "text": [
      "['abc', 'new', 'def', 'ghi', 'jkl', 'mno']\n"
     ]
    }
   ],
   "source": [
    "peep.insert(1, \"new\")\n",
    "print(peep)"
   ]
  },
  {
   "cell_type": "code",
   "execution_count": 45,
   "id": "28d44b9c",
   "metadata": {},
   "outputs": [
    {
     "name": "stdout",
     "output_type": "stream",
     "text": [
      "['abc', 'new', 'def', 'ghi', 'jkl']\n"
     ]
    }
   ],
   "source": [
    "peep.remove(\"mno\")\n",
    "print(peep)"
   ]
  },
  {
   "cell_type": "code",
   "execution_count": 46,
   "id": "c6df5d39",
   "metadata": {},
   "outputs": [
    {
     "name": "stdout",
     "output_type": "stream",
     "text": [
      "['abc', 'new', 'def', 'ghi']\n"
     ]
    }
   ],
   "source": [
    "peep.pop()\n",
    "print(peep)"
   ]
  },
  {
   "cell_type": "code",
   "execution_count": 47,
   "id": "3b855ce3",
   "metadata": {},
   "outputs": [
    {
     "name": "stdout",
     "output_type": "stream",
     "text": [
      "[]\n"
     ]
    }
   ],
   "source": [
    "peep.clear()\n",
    "print(peep)"
   ]
  },
  {
   "cell_type": "code",
   "execution_count": 50,
   "id": "beed89f1",
   "metadata": {},
   "outputs": [
    {
     "name": "stdout",
     "output_type": "stream",
     "text": [
      "0\n"
     ]
    }
   ],
   "source": [
    "print(peep.index(\"abc\"))"
   ]
  },
  {
   "cell_type": "code",
   "execution_count": 51,
   "id": "d070a68a",
   "metadata": {},
   "outputs": [
    {
     "name": "stdout",
     "output_type": "stream",
     "text": [
      "1\n"
     ]
    }
   ],
   "source": [
    "print(peep.count(\"abc\"))"
   ]
  },
  {
   "cell_type": "code",
   "execution_count": 53,
   "id": "f75fc0a5",
   "metadata": {},
   "outputs": [
    {
     "name": "stdout",
     "output_type": "stream",
     "text": [
      "['abc', 'ghi', 'lmh', 'yuo']\n"
     ]
    }
   ],
   "source": [
    "peep.sort()\n",
    "print(peep)"
   ]
  },
  {
   "cell_type": "code",
   "execution_count": 54,
   "id": "983ffc8e",
   "metadata": {},
   "outputs": [
    {
     "name": "stdout",
     "output_type": "stream",
     "text": [
      "['yuo', 'lmh', 'ghi', 'abc']\n"
     ]
    }
   ],
   "source": [
    "peep.reverse()\n",
    "print(peep)"
   ]
  },
  {
   "cell_type": "code",
   "execution_count": 55,
   "id": "124a5ec5",
   "metadata": {},
   "outputs": [
    {
     "name": "stdout",
     "output_type": "stream",
     "text": [
      "['yuo', 'lmh', 'ghi', 'abc']\n"
     ]
    }
   ],
   "source": [
    "peep2 = peep.copy()\n",
    "print(peep2)"
   ]
  },
  {
   "cell_type": "code",
   "execution_count": 56,
   "id": "350becf5",
   "metadata": {},
   "outputs": [
    {
     "name": "stdout",
     "output_type": "stream",
     "text": [
      "['abc', 'lmh', 'ghi', 'yuo']\n"
     ]
    }
   ],
   "source": [
    "tuple = [\"abc\",\"lmh\",\"ghi\",\"yuo\"]\n",
    "print(tuple)"
   ]
  },
  {
   "cell_type": "code",
   "execution_count": 59,
   "id": "5ffe8bc8",
   "metadata": {},
   "outputs": [
    {
     "name": "stdout",
     "output_type": "stream",
     "text": [
      "[('abc', 'lmh'), ('ghi', 'yuo')]\n"
     ]
    }
   ],
   "source": [
    "tuplelist = [(\"abc\",\"lmh\"),(\"ghi\",\"yuo\")]\n",
    "print(tuplelist)"
   ]
  },
  {
   "cell_type": "code",
   "execution_count": 61,
   "id": "f2bf8b29",
   "metadata": {},
   "outputs": [
    {
     "name": "stdout",
     "output_type": "stream",
     "text": [
      "Hi\n"
     ]
    }
   ],
   "source": [
    "def first_function():\n",
    "    print(\"Hi\")\n",
    "first_function()"
   ]
  },
  {
   "cell_type": "code",
   "execution_count": 71,
   "id": "5299d181",
   "metadata": {},
   "outputs": [
    {
     "name": "stdout",
     "output_type": "stream",
     "text": [
      "Always\n"
     ]
    }
   ],
   "source": [
    "if 1<2 or 2>1:\n",
    "    print(\"Always\")\n",
    "elif 1<3 and not(3>1):\n",
    "    print(\"Never\")\n",
    "else:\n",
    "    print(\"no\")"
   ]
  },
  {
   "cell_type": "code",
   "execution_count": 72,
   "id": "28523764",
   "metadata": {},
   "outputs": [
    {
     "name": "stdout",
     "output_type": "stream",
     "text": [
      "{'jan': '1', 'feb': '2', 'mar': '3'}\n"
     ]
    }
   ],
   "source": [
    "dictonaries = {\n",
    "    \"jan\": \"1\",\n",
    "    \"feb\": \"2\",\n",
    "    \"mar\": \"3\",\n",
    "}\n",
    "print(dictonaries)"
   ]
  },
  {
   "cell_type": "code",
   "execution_count": 74,
   "id": "0f6e265e",
   "metadata": {},
   "outputs": [
    {
     "name": "stdout",
     "output_type": "stream",
     "text": [
      "2\n"
     ]
    }
   ],
   "source": [
    "print(dictonaries[\"feb\"])"
   ]
  },
  {
   "cell_type": "code",
   "execution_count": 75,
   "id": "b9cc438d",
   "metadata": {},
   "outputs": [
    {
     "name": "stdout",
     "output_type": "stream",
     "text": [
      "2\n"
     ]
    }
   ],
   "source": [
    "print(dictonaries.get(\"feb\"))"
   ]
  },
  {
   "cell_type": "code",
   "execution_count": 76,
   "id": "2de10a22",
   "metadata": {},
   "outputs": [
    {
     "name": "stdout",
     "output_type": "stream",
     "text": [
      "None\n"
     ]
    }
   ],
   "source": [
    "print(dictonaries.get(\"Apr\"))"
   ]
  },
  {
   "cell_type": "code",
   "execution_count": 78,
   "id": "911f7991",
   "metadata": {},
   "outputs": [
    {
     "name": "stdout",
     "output_type": "stream",
     "text": [
      "Not present\n"
     ]
    }
   ],
   "source": [
    "print(dictonaries.get(\"Apr\", \"Not present\"))"
   ]
  },
  {
   "cell_type": "code",
   "execution_count": 1,
   "id": "96cbd86e",
   "metadata": {},
   "outputs": [
    {
     "name": "stdout",
     "output_type": "stream",
     "text": [
      "P\n",
      "r\n",
      "a\n",
      "j\n",
      "n\n",
      "a\n",
      " \n",
      "S\n",
      "h\n",
      "e\n",
      "t\n",
      "t\n",
      "y\n"
     ]
    }
   ],
   "source": [
    "for name in \"Prajna Shetty\":\n",
    "    print(name)"
   ]
  },
  {
   "cell_type": "code",
   "execution_count": 3,
   "id": "7b3ee09f",
   "metadata": {},
   "outputs": [
    {
     "name": "stdout",
     "output_type": "stream",
     "text": [
      "0\n",
      "1\n",
      "2\n",
      "3\n",
      "4\n",
      "5\n",
      "6\n",
      "7\n",
      "8\n",
      "9\n"
     ]
    }
   ],
   "source": [
    "for i in range(10):\n",
    "    print(i)"
   ]
  },
  {
   "cell_type": "code",
   "execution_count": 4,
   "id": "9f46bae2",
   "metadata": {},
   "outputs": [
    {
     "name": "stdout",
     "output_type": "stream",
     "text": [
      "0\n",
      "1\n",
      "2\n",
      "3\n",
      "4\n",
      "5\n",
      "6\n",
      "7\n",
      "8\n",
      "9\n",
      "10\n",
      "11\n"
     ]
    }
   ],
   "source": [
    "for i in range(len(\"PrajnaShetty\")):\n",
    "    print(i)"
   ]
  },
  {
   "cell_type": "code",
   "execution_count": 6,
   "id": "b53dd0a2",
   "metadata": {},
   "outputs": [
    {
     "name": "stdout",
     "output_type": "stream",
     "text": [
      "Enter the number: iop\n",
      "Exception occured\n"
     ]
    }
   ],
   "source": [
    "try:\n",
    "    num = int(input(\"Enter the number: \"))\n",
    "    print(num)\n",
    "except:\n",
    "    print(\"Exception occured\")"
   ]
  },
  {
   "cell_type": "code",
   "execution_count": 11,
   "id": "84ef2c79",
   "metadata": {},
   "outputs": [
    {
     "name": "stdout",
     "output_type": "stream",
     "text": [
      "Enter the number: 0\n",
      "Cant divide by zero\n"
     ]
    }
   ],
   "source": [
    "try:\n",
    "    num = int(input(\"Enter the number: \"))\n",
    "    print(2/num)\n",
    "except ZeroDivisionError:\n",
    "    print(\"Cant divide by zero\")\n",
    "except ValueError:\n",
    "    print(\"Invalid value\")"
   ]
  },
  {
   "cell_type": "code",
   "execution_count": 36,
   "id": "3efd9004",
   "metadata": {},
   "outputs": [
    {
     "name": "stdout",
     "output_type": "stream",
     "text": [
      "True\n",
      "new line\n"
     ]
    }
   ],
   "source": [
    "#Reading files\n",
    "file = open(\"cinderella.txt\", \"r\")\n",
    "print(file.readable())\n",
    "print(file.read())\n",
    "file.close()"
   ]
  },
  {
   "cell_type": "code",
   "execution_count": 35,
   "id": "cf5fa264",
   "metadata": {},
   "outputs": [
    {
     "name": "stdout",
     "output_type": "stream",
     "text": [
      "False\n"
     ]
    }
   ],
   "source": [
    "#Writing to files\n",
    "file = open(\"cinderella.txt\", \"w\")\n",
    "print(file.readable())\n",
    "file.write(\"new line\")\n",
    "file.close()"
   ]
  },
  {
   "cell_type": "code",
   "execution_count": 20,
   "id": "10712f1f",
   "metadata": {},
   "outputs": [
    {
     "name": "stdout",
     "output_type": "stream",
     "text": [
      "False\n"
     ]
    }
   ],
   "source": [
    "#Appending files\n",
    "file = open(\"cinderella.txt\", \"a\")\n",
    "print(file.readable())\n",
    "file.close()"
   ]
  },
  {
   "cell_type": "code",
   "execution_count": 26,
   "id": "fa8679b5",
   "metadata": {},
   "outputs": [
    {
     "name": "stdout",
     "output_type": "stream",
     "text": [
      "True\n",
      "uiiui\n",
      "\n"
     ]
    }
   ],
   "source": [
    "#Reading and Writing files\n",
    "file = open(\"cinderella.txt\", \"r+\")\n",
    "print(file.readable())\n",
    "print(file.readline())\n",
    "file.close()"
   ]
  },
  {
   "cell_type": "code",
   "execution_count": 27,
   "id": "233e2c06",
   "metadata": {},
   "outputs": [
    {
     "name": "stdout",
     "output_type": "stream",
     "text": [
      "['uiiui\\n', 'ioiop\\n', 'oippop[o\\n', 'nljbkjb\\n', '\\n', '\\n', 'kjjhb\\n', 'nmmmmmmmmmmmmjbjnm ']\n"
     ]
    }
   ],
   "source": [
    "#Puts in a List\n",
    "file = open(\"cinderella.txt\", \"r\")\n",
    "print(file.readlines())\n",
    "file.close()"
   ]
  },
  {
   "cell_type": "code",
   "execution_count": 33,
   "id": "23cd3648",
   "metadata": {},
   "outputs": [
    {
     "name": "stdout",
     "output_type": "stream",
     "text": [
      "ioiop\n",
      "\n"
     ]
    }
   ],
   "source": [
    "file = open(\"cinderella.txt\", \"r\")\n",
    "print(file.readlines()[1])"
   ]
  },
  {
   "cell_type": "code",
   "execution_count": 34,
   "id": "3ba97603",
   "metadata": {},
   "outputs": [],
   "source": [
    "for j in file.readlines():\n",
    "    print(j)"
   ]
  },
  {
   "cell_type": "code",
   "execution_count": 37,
   "id": "a41c62e7",
   "metadata": {},
   "outputs": [
    {
     "name": "stdout",
     "output_type": "stream",
     "text": [
      "[1 2 3]\n"
     ]
    }
   ],
   "source": [
    "import numpy as np\n",
    "\n",
    "a  = np.array([1,2,3])\n",
    "print(a)"
   ]
  },
  {
   "cell_type": "code",
   "execution_count": 92,
   "id": "d66bedbd",
   "metadata": {},
   "outputs": [
    {
     "name": "stdout",
     "output_type": "stream",
     "text": [
      "[[1 2 3]\n",
      " [3 4 5]]\n"
     ]
    }
   ],
   "source": [
    "b  = np.array([[1,2,3], [3,4,5]])\n",
    "print(b)"
   ]
  },
  {
   "cell_type": "code",
   "execution_count": 41,
   "id": "9dd4d88e",
   "metadata": {},
   "outputs": [
    {
     "data": {
      "text/plain": [
       "1"
      ]
     },
     "execution_count": 41,
     "metadata": {},
     "output_type": "execute_result"
    }
   ],
   "source": [
    "a.ndim"
   ]
  },
  {
   "cell_type": "code",
   "execution_count": 42,
   "id": "423aeb37",
   "metadata": {},
   "outputs": [
    {
     "data": {
      "text/plain": [
       "2"
      ]
     },
     "execution_count": 42,
     "metadata": {},
     "output_type": "execute_result"
    }
   ],
   "source": [
    "b.ndim"
   ]
  },
  {
   "cell_type": "code",
   "execution_count": 43,
   "id": "0f84cc13",
   "metadata": {},
   "outputs": [
    {
     "data": {
      "text/plain": [
       "(3,)"
      ]
     },
     "execution_count": 43,
     "metadata": {},
     "output_type": "execute_result"
    }
   ],
   "source": [
    "a.shape"
   ]
  },
  {
   "cell_type": "code",
   "execution_count": 44,
   "id": "f60709cf",
   "metadata": {},
   "outputs": [
    {
     "data": {
      "text/plain": [
       "(2, 3)"
      ]
     },
     "execution_count": 44,
     "metadata": {},
     "output_type": "execute_result"
    }
   ],
   "source": [
    "b.shape"
   ]
  },
  {
   "cell_type": "code",
   "execution_count": 45,
   "id": "de1427da",
   "metadata": {},
   "outputs": [
    {
     "data": {
      "text/plain": [
       "dtype('int32')"
      ]
     },
     "execution_count": 45,
     "metadata": {},
     "output_type": "execute_result"
    }
   ],
   "source": [
    "a.dtype"
   ]
  },
  {
   "cell_type": "code",
   "execution_count": 93,
   "id": "1b3fcb05",
   "metadata": {},
   "outputs": [
    {
     "data": {
      "text/plain": [
       "dtype('int16')"
      ]
     },
     "execution_count": 93,
     "metadata": {},
     "output_type": "execute_result"
    }
   ],
   "source": [
    "c  = np.array([[1,2,3], [3,4,5]], dtype='int16')\n",
    "c.dtype"
   ]
  },
  {
   "cell_type": "code",
   "execution_count": 47,
   "id": "0bba6225",
   "metadata": {},
   "outputs": [
    {
     "data": {
      "text/plain": [
       "4"
      ]
     },
     "execution_count": 47,
     "metadata": {},
     "output_type": "execute_result"
    }
   ],
   "source": [
    "a.itemsize"
   ]
  },
  {
   "cell_type": "code",
   "execution_count": 48,
   "id": "1d557497",
   "metadata": {},
   "outputs": [
    {
     "data": {
      "text/plain": [
       "2"
      ]
     },
     "execution_count": 48,
     "metadata": {},
     "output_type": "execute_result"
    }
   ],
   "source": [
    "c.itemsize"
   ]
  },
  {
   "cell_type": "code",
   "execution_count": 49,
   "id": "3ce0fba5",
   "metadata": {},
   "outputs": [
    {
     "data": {
      "text/plain": [
       "3"
      ]
     },
     "execution_count": 49,
     "metadata": {},
     "output_type": "execute_result"
    }
   ],
   "source": [
    "a.size"
   ]
  },
  {
   "cell_type": "code",
   "execution_count": 50,
   "id": "82344786",
   "metadata": {},
   "outputs": [
    {
     "data": {
      "text/plain": [
       "12"
      ]
     },
     "execution_count": 50,
     "metadata": {},
     "output_type": "execute_result"
    }
   ],
   "source": [
    "a.nbytes"
   ]
  },
  {
   "cell_type": "code",
   "execution_count": 52,
   "id": "d4234209",
   "metadata": {},
   "outputs": [
    {
     "data": {
      "text/plain": [
       "12"
      ]
     },
     "execution_count": 52,
     "metadata": {},
     "output_type": "execute_result"
    }
   ],
   "source": [
    "c.nbytes"
   ]
  },
  {
   "cell_type": "code",
   "execution_count": 53,
   "id": "1864b5e1",
   "metadata": {},
   "outputs": [
    {
     "data": {
      "text/plain": [
       "array([[3, 5, 6, 7],\n",
       "       [6, 2, 3, 5]])"
      ]
     },
     "execution_count": 53,
     "metadata": {},
     "output_type": "execute_result"
    }
   ],
   "source": [
    "x= np.array([[1,2,3,4],[3,5,6,7],[6,2,3,5]])\n",
    "x[1:5]"
   ]
  },
  {
   "cell_type": "code",
   "execution_count": 55,
   "id": "984797d5",
   "metadata": {},
   "outputs": [
    {
     "data": {
      "text/plain": [
       "array([[1, 2, 3, 4],\n",
       "       [3, 5, 6, 7],\n",
       "       [6, 2, 3, 5]])"
      ]
     },
     "execution_count": 55,
     "metadata": {},
     "output_type": "execute_result"
    }
   ],
   "source": [
    "x[:3]"
   ]
  },
  {
   "cell_type": "code",
   "execution_count": 60,
   "id": "7b9d7718",
   "metadata": {},
   "outputs": [
    {
     "data": {
      "text/plain": [
       "array([[6, 2, 3, 5]])"
      ]
     },
     "execution_count": 60,
     "metadata": {},
     "output_type": "execute_result"
    }
   ],
   "source": [
    "x[2:]"
   ]
  },
  {
   "cell_type": "code",
   "execution_count": 61,
   "id": "10d66eef",
   "metadata": {},
   "outputs": [
    {
     "data": {
      "text/plain": [
       "array([1, 2, 3, 4])"
      ]
     },
     "execution_count": 61,
     "metadata": {},
     "output_type": "execute_result"
    }
   ],
   "source": [
    "x[0, :]"
   ]
  },
  {
   "cell_type": "code",
   "execution_count": 63,
   "id": "d9550e81",
   "metadata": {},
   "outputs": [
    {
     "data": {
      "text/plain": [
       "array([3, 6, 3])"
      ]
     },
     "execution_count": 63,
     "metadata": {},
     "output_type": "execute_result"
    }
   ],
   "source": [
    "x[: , 2]"
   ]
  },
  {
   "cell_type": "code",
   "execution_count": 65,
   "id": "f77a4787",
   "metadata": {},
   "outputs": [
    {
     "data": {
      "text/plain": [
       "array([2])"
      ]
     },
     "execution_count": 65,
     "metadata": {},
     "output_type": "execute_result"
    }
   ],
   "source": [
    "#Skip by 2 from 1-3th col 0 row\n",
    "x[0,1:3:2]"
   ]
  },
  {
   "cell_type": "code",
   "execution_count": 66,
   "id": "24d2cf3b",
   "metadata": {},
   "outputs": [
    {
     "data": {
      "text/plain": [
       "array([[  1,   2,   3,   4],\n",
       "       [  3,   5,   6, 100],\n",
       "       [  6,   2,   3,   5]])"
      ]
     },
     "execution_count": 66,
     "metadata": {},
     "output_type": "execute_result"
    }
   ],
   "source": [
    "x[1,3] = 100\n",
    "x"
   ]
  },
  {
   "cell_type": "code",
   "execution_count": 67,
   "id": "4963c270",
   "metadata": {},
   "outputs": [
    {
     "data": {
      "text/plain": [
       "array([[[1, 2, 3, 4],\n",
       "        [3, 5, 6, 7],\n",
       "        [6, 2, 3, 5]],\n",
       "\n",
       "       [[1, 2, 3, 4],\n",
       "        [3, 5, 6, 7],\n",
       "        [6, 2, 3, 5]]])"
      ]
     },
     "execution_count": 67,
     "metadata": {},
     "output_type": "execute_result"
    }
   ],
   "source": [
    "y = np.array([[[1,2,3,4],[3,5,6,7],[6,2,3,5]],[[1,2,3,4],[3,5,6,7],[6,2,3,5]]])\n",
    "y"
   ]
  },
  {
   "cell_type": "code",
   "execution_count": 69,
   "id": "b3c402a2",
   "metadata": {},
   "outputs": [
    {
     "data": {
      "text/plain": [
       "array([[[1, 2, 3, 4],\n",
       "        [5, 5, 5, 5],\n",
       "        [6, 2, 3, 5]],\n",
       "\n",
       "       [[1, 2, 3, 4],\n",
       "        [6, 6, 6, 6],\n",
       "        [6, 2, 3, 5]]])"
      ]
     },
     "execution_count": 69,
     "metadata": {},
     "output_type": "execute_result"
    }
   ],
   "source": [
    "y[:,1,:] = [[5,5,5,5],[6,6,6,6]]\n",
    "y"
   ]
  },
  {
   "cell_type": "code",
   "execution_count": 70,
   "id": "a38fd3f4",
   "metadata": {},
   "outputs": [
    {
     "data": {
      "text/plain": [
       "array([[6, 2, 3, 5],\n",
       "       [6, 2, 3, 5]])"
      ]
     },
     "execution_count": 70,
     "metadata": {},
     "output_type": "execute_result"
    }
   ],
   "source": [
    "y[:,2,:]"
   ]
  },
  {
   "cell_type": "code",
   "execution_count": 71,
   "id": "26995bb1",
   "metadata": {},
   "outputs": [
    {
     "data": {
      "text/plain": [
       "array([0., 0., 0., 0., 0.])"
      ]
     },
     "execution_count": 71,
     "metadata": {},
     "output_type": "execute_result"
    }
   ],
   "source": [
    "np.zeros(5)"
   ]
  },
  {
   "cell_type": "code",
   "execution_count": 73,
   "id": "21afab2f",
   "metadata": {},
   "outputs": [
    {
     "data": {
      "text/plain": [
       "array([[[0., 0.],\n",
       "        [0., 0.],\n",
       "        [0., 0.]],\n",
       "\n",
       "       [[0., 0.],\n",
       "        [0., 0.],\n",
       "        [0., 0.]]])"
      ]
     },
     "execution_count": 73,
     "metadata": {},
     "output_type": "execute_result"
    }
   ],
   "source": [
    "np.zeros(((2,3,2)))"
   ]
  },
  {
   "cell_type": "code",
   "execution_count": 74,
   "id": "47a73941",
   "metadata": {},
   "outputs": [
    {
     "data": {
      "text/plain": [
       "array([[[1., 1.],\n",
       "        [1., 1.],\n",
       "        [1., 1.]],\n",
       "\n",
       "       [[1., 1.],\n",
       "        [1., 1.],\n",
       "        [1., 1.]]])"
      ]
     },
     "execution_count": 74,
     "metadata": {},
     "output_type": "execute_result"
    }
   ],
   "source": [
    "np.ones((2,3,2), dtype='int32')"
   ]
  },
  {
   "cell_type": "code",
   "execution_count": 75,
   "id": "7fc0c13e",
   "metadata": {},
   "outputs": [
    {
     "data": {
      "text/plain": [
       "array([[99, 99],\n",
       "       [99, 99]])"
      ]
     },
     "execution_count": 75,
     "metadata": {},
     "output_type": "execute_result"
    }
   ],
   "source": [
    "np.full((2,2),99)"
   ]
  },
  {
   "cell_type": "code",
   "execution_count": 76,
   "id": "ee52ff60",
   "metadata": {},
   "outputs": [
    {
     "data": {
      "text/plain": [
       "array([[[4, 4, 4, 4],\n",
       "        [4, 4, 4, 4],\n",
       "        [4, 4, 4, 4]],\n",
       "\n",
       "       [[4, 4, 4, 4],\n",
       "        [4, 4, 4, 4],\n",
       "        [4, 4, 4, 4]]])"
      ]
     },
     "execution_count": 76,
     "metadata": {},
     "output_type": "execute_result"
    }
   ],
   "source": [
    "np.full_like(y,4)"
   ]
  },
  {
   "cell_type": "code",
   "execution_count": 78,
   "id": "1f298e2e",
   "metadata": {},
   "outputs": [
    {
     "data": {
      "text/plain": [
       "array([[[0.59464779, 0.66558055, 0.99493082],\n",
       "        [0.19439909, 0.45934154, 0.60439465]],\n",
       "\n",
       "       [[0.43642857, 0.04569863, 0.87243586],\n",
       "        [0.70698631, 0.7771461 , 0.97506303]],\n",
       "\n",
       "       [[0.45153203, 0.37180311, 0.04171573],\n",
       "        [0.80519819, 0.73697785, 0.0953708 ]],\n",
       "\n",
       "       [[0.41907435, 0.46228584, 0.1285454 ],\n",
       "        [0.4633853 , 0.95595397, 0.55575657]]])"
      ]
     },
     "execution_count": 78,
     "metadata": {},
     "output_type": "execute_result"
    }
   ],
   "source": [
    "np.random.rand(4,2,3)"
   ]
  },
  {
   "cell_type": "code",
   "execution_count": 81,
   "id": "a339bfd9",
   "metadata": {},
   "outputs": [
    {
     "data": {
      "text/plain": [
       "array([[1., 1., 1., 1., 1.],\n",
       "       [1., 0., 0., 0., 1.],\n",
       "       [1., 0., 0., 0., 1.],\n",
       "       [1., 0., 0., 0., 1.],\n",
       "       [1., 1., 1., 1., 1.]])"
      ]
     },
     "execution_count": 81,
     "metadata": {},
     "output_type": "execute_result"
    }
   ],
   "source": [
    "o = np.ones((5,5))\n",
    "o[1:-1,1:-1] = 0\n",
    "o"
   ]
  },
  {
   "cell_type": "code",
   "execution_count": 86,
   "id": "8b03bd07",
   "metadata": {},
   "outputs": [
    {
     "data": {
      "text/plain": [
       "array([1, 2, 3])"
      ]
     },
     "execution_count": 86,
     "metadata": {},
     "output_type": "execute_result"
    }
   ],
   "source": [
    "b = a.copy()\n",
    "b"
   ]
  },
  {
   "cell_type": "code",
   "execution_count": 88,
   "id": "a7ffc4eb",
   "metadata": {},
   "outputs": [
    {
     "data": {
      "text/plain": [
       "array([2, 4, 6])"
      ]
     },
     "execution_count": 88,
     "metadata": {},
     "output_type": "execute_result"
    }
   ],
   "source": [
    "b*2"
   ]
  },
  {
   "cell_type": "code",
   "execution_count": 89,
   "id": "59c03fc5",
   "metadata": {},
   "outputs": [
    {
     "data": {
      "text/plain": [
       "array([2, 4, 6])"
      ]
     },
     "execution_count": 89,
     "metadata": {},
     "output_type": "execute_result"
    }
   ],
   "source": [
    "a+b"
   ]
  },
  {
   "cell_type": "code",
   "execution_count": 90,
   "id": "260446b8",
   "metadata": {},
   "outputs": [
    {
     "data": {
      "text/plain": [
       "array([ 0.54030231, -0.41614684, -0.9899925 ])"
      ]
     },
     "execution_count": 90,
     "metadata": {},
     "output_type": "execute_result"
    }
   ],
   "source": [
    "np.cos(a)"
   ]
  },
  {
   "cell_type": "code",
   "execution_count": 101,
   "id": "0d94dce1",
   "metadata": {},
   "outputs": [
    {
     "data": {
      "text/plain": [
       "array([[25, 31],\n",
       "       [45, 57]])"
      ]
     },
     "execution_count": 101,
     "metadata": {},
     "output_type": "execute_result"
    }
   ],
   "source": [
    "c  = np.array([[1,2], [3,4],[6,7]])\n",
    "np.matmul(b,c)"
   ]
  },
  {
   "cell_type": "code",
   "execution_count": null,
   "id": "d67865e8",
   "metadata": {},
   "outputs": [],
   "source": [
    "#Load data from file\n",
    "filedata = np.genfromtxt('data.txt',delimiters=',')\n",
    "filedata[filedata>50 ]"
   ]
  },
  {
   "cell_type": "code",
   "execution_count": null,
   "id": "4af4d6ca",
   "metadata": {},
   "outputs": [],
   "source": [
    "import pandas as pd"
   ]
  }
 ],
 "metadata": {
  "kernelspec": {
   "display_name": "Python 3 (ipykernel)",
   "language": "python",
   "name": "python3"
  },
  "language_info": {
   "codemirror_mode": {
    "name": "ipython",
    "version": 3
   },
   "file_extension": ".py",
   "mimetype": "text/x-python",
   "name": "python",
   "nbconvert_exporter": "python",
   "pygments_lexer": "ipython3",
   "version": "3.9.7"
  }
 },
 "nbformat": 4,
 "nbformat_minor": 5
}
