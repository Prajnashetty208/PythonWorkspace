{
 "cells": [
  {
   "cell_type": "markdown",
   "metadata": {},
   "source": [
    "### Libraries"
   ]
  },
  {
   "cell_type": "code",
   "execution_count": 1,
   "metadata": {},
   "outputs": [],
   "source": [
    "import re\n",
    "import pandas as pd\n",
    "import numpy as np"
   ]
  },
  {
   "cell_type": "markdown",
   "metadata": {},
   "source": [
    "### Reading the given Text files\n",
    "- Coverting them to lower case\n",
    "- One can also _automate_ this process by reading from the directory. \n"
   ]
  },
  {
   "cell_type": "code",
   "execution_count": 2,
   "metadata": {},
   "outputs": [],
   "source": [
    "cinderella = open('cinderella.txt', 'r',encoding='utf-8').read().lower()\n",
    "jackandthebeanstalk= open(\"jackandthebeanstalk.txt\",'r',encoding='utf-8').read().lower()\n",
    "thefarmerandthebadger=open(\"thefarmerandthebadger.txt\",'r',encoding='utf-8').read().lower()\n",
    "theprincessandthepea=open(\"theprincessandthepea.txt\",'r',encoding='utf-8').read().lower()"
   ]
  },
  {
   "cell_type": "markdown",
   "metadata": {},
   "source": [
    "### Delete punctuations and get unique words"
   ]
  },
  {
   "cell_type": "code",
   "execution_count": 3,
   "metadata": {},
   "outputs": [],
   "source": [
    "#Cinderella\n",
    "cinderella_words = re.findall(r'(\\b[A-Za-z][a-z]{2,9}\\b)', cinderella)\n",
    "cinderella_words_uniq = sorted(list(set(cinderella_words)))\n",
    "\n",
    "#Jack and the Bean Stalk\n",
    "jackandthebeanstalk_words = re.findall(r'(\\b[A-Za-z][a-z]{2,9}\\b)', jackandthebeanstalk)\n",
    "jackandthebeanstalk_words_uniq = sorted(list(set(jackandthebeanstalk_words)))\n",
    "\n",
    "#The Farmer and the Badger\n",
    "thefarmerandthebadger_words = re.findall(r'(\\b[A-Za-z][a-z]{2,9}\\b)', thefarmerandthebadger)\n",
    "thefarmerandthebadger_words_uniq = sorted(list(set(thefarmerandthebadger_words)))\n",
    "\n",
    "#The princess and the pea\n",
    "theprincessandthepea_words = re.findall(r'(\\b[A-Za-z][a-z]{2,9}\\b)', theprincessandthepea)\n",
    "theprincessandthepea_words_uniq = sorted(list(set(theprincessandthepea_words)))"
   ]
  },
  {
   "cell_type": "code",
   "execution_count": null,
   "metadata": {},
   "outputs": [],
   "source": []
  },
  {
   "cell_type": "markdown",
   "metadata": {},
   "source": [
    "### Creating Bag Of Words"
   ]
  },
  {
   "cell_type": "code",
   "execution_count": 4,
   "metadata": {},
   "outputs": [
    {
     "data": {
      "text/plain": [
       "1126"
      ]
     },
     "execution_count": 4,
     "metadata": {},
     "output_type": "execute_result"
    }
   ],
   "source": [
    "words_bag= list(set(cinderella_words_uniq+jackandthebeanstalk_words_uniq+thefarmerandthebadger_words_uniq+theprincessandthepea_words_uniq))\n",
    "\n",
    "words_bag.sort()\n",
    "len(words_bag)"
   ]
  },
  {
   "cell_type": "markdown",
   "metadata": {},
   "source": [
    "### Boolean incidence Matrix for term-document"
   ]
  },
  {
   "cell_type": "code",
   "execution_count": 5,
   "metadata": {},
   "outputs": [
    {
     "data": {
      "text/html": [
       "<div>\n",
       "<style scoped>\n",
       "    .dataframe tbody tr th:only-of-type {\n",
       "        vertical-align: middle;\n",
       "    }\n",
       "\n",
       "    .dataframe tbody tr th {\n",
       "        vertical-align: top;\n",
       "    }\n",
       "\n",
       "    .dataframe thead th {\n",
       "        text-align: right;\n",
       "    }\n",
       "</style>\n",
       "<table border=\"1\" class=\"dataframe\">\n",
       "  <thead>\n",
       "    <tr style=\"text-align: right;\">\n",
       "      <th></th>\n",
       "      <th>cinderella</th>\n",
       "      <th>jackandthebeanstalk</th>\n",
       "      <th>thefarmerandthebadger</th>\n",
       "      <th>theprincessandthepea</th>\n",
       "    </tr>\n",
       "  </thead>\n",
       "  <tbody>\n",
       "    <tr>\n",
       "      <th>able</th>\n",
       "      <td>NaN</td>\n",
       "      <td>NaN</td>\n",
       "      <td>NaN</td>\n",
       "      <td>NaN</td>\n",
       "    </tr>\n",
       "    <tr>\n",
       "      <th>about</th>\n",
       "      <td>NaN</td>\n",
       "      <td>NaN</td>\n",
       "      <td>NaN</td>\n",
       "      <td>NaN</td>\n",
       "    </tr>\n",
       "    <tr>\n",
       "      <th>above</th>\n",
       "      <td>NaN</td>\n",
       "      <td>NaN</td>\n",
       "      <td>NaN</td>\n",
       "      <td>NaN</td>\n",
       "    </tr>\n",
       "    <tr>\n",
       "      <th>abundantly</th>\n",
       "      <td>NaN</td>\n",
       "      <td>NaN</td>\n",
       "      <td>NaN</td>\n",
       "      <td>NaN</td>\n",
       "    </tr>\n",
       "    <tr>\n",
       "      <th>account</th>\n",
       "      <td>NaN</td>\n",
       "      <td>NaN</td>\n",
       "      <td>NaN</td>\n",
       "      <td>NaN</td>\n",
       "    </tr>\n",
       "  </tbody>\n",
       "</table>\n",
       "</div>"
      ],
      "text/plain": [
       "           cinderella jackandthebeanstalk thefarmerandthebadger  \\\n",
       "able              NaN                 NaN                   NaN   \n",
       "about             NaN                 NaN                   NaN   \n",
       "above             NaN                 NaN                   NaN   \n",
       "abundantly        NaN                 NaN                   NaN   \n",
       "account           NaN                 NaN                   NaN   \n",
       "\n",
       "           theprincessandthepea  \n",
       "able                        NaN  \n",
       "about                       NaN  \n",
       "above                       NaN  \n",
       "abundantly                  NaN  \n",
       "account                     NaN  "
      ]
     },
     "execution_count": 5,
     "metadata": {},
     "output_type": "execute_result"
    }
   ],
   "source": [
    "term_doc_df= pd.DataFrame(index=words_bag, columns=['cinderella','jackandthebeanstalk','thefarmerandthebadger','theprincessandthepea'])\n",
    "term_doc_df.head()"
   ]
  },
  {
   "cell_type": "code",
   "execution_count": 6,
   "metadata": {},
   "outputs": [
    {
     "data": {
      "text/html": [
       "<div>\n",
       "<style scoped>\n",
       "    .dataframe tbody tr th:only-of-type {\n",
       "        vertical-align: middle;\n",
       "    }\n",
       "\n",
       "    .dataframe tbody tr th {\n",
       "        vertical-align: top;\n",
       "    }\n",
       "\n",
       "    .dataframe thead th {\n",
       "        text-align: right;\n",
       "    }\n",
       "</style>\n",
       "<table border=\"1\" class=\"dataframe\">\n",
       "  <thead>\n",
       "    <tr style=\"text-align: right;\">\n",
       "      <th></th>\n",
       "      <th>cinderella</th>\n",
       "      <th>jackandthebeanstalk</th>\n",
       "      <th>thefarmerandthebadger</th>\n",
       "      <th>theprincessandthepea</th>\n",
       "    </tr>\n",
       "  </thead>\n",
       "  <tbody>\n",
       "    <tr>\n",
       "      <th>able</th>\n",
       "      <td>True</td>\n",
       "      <td>False</td>\n",
       "      <td>True</td>\n",
       "      <td>False</td>\n",
       "    </tr>\n",
       "    <tr>\n",
       "      <th>about</th>\n",
       "      <td>False</td>\n",
       "      <td>True</td>\n",
       "      <td>True</td>\n",
       "      <td>True</td>\n",
       "    </tr>\n",
       "    <tr>\n",
       "      <th>above</th>\n",
       "      <td>True</td>\n",
       "      <td>False</td>\n",
       "      <td>False</td>\n",
       "      <td>False</td>\n",
       "    </tr>\n",
       "    <tr>\n",
       "      <th>abundantly</th>\n",
       "      <td>True</td>\n",
       "      <td>False</td>\n",
       "      <td>False</td>\n",
       "      <td>False</td>\n",
       "    </tr>\n",
       "    <tr>\n",
       "      <th>account</th>\n",
       "      <td>True</td>\n",
       "      <td>False</td>\n",
       "      <td>True</td>\n",
       "      <td>False</td>\n",
       "    </tr>\n",
       "    <tr>\n",
       "      <th>across</th>\n",
       "      <td>False</td>\n",
       "      <td>False</td>\n",
       "      <td>True</td>\n",
       "      <td>False</td>\n",
       "    </tr>\n",
       "    <tr>\n",
       "      <th>adjust</th>\n",
       "      <td>True</td>\n",
       "      <td>False</td>\n",
       "      <td>False</td>\n",
       "      <td>False</td>\n",
       "    </tr>\n",
       "    <tr>\n",
       "      <th>admired</th>\n",
       "      <td>True</td>\n",
       "      <td>False</td>\n",
       "      <td>False</td>\n",
       "      <td>False</td>\n",
       "    </tr>\n",
       "    <tr>\n",
       "      <th>advised</th>\n",
       "      <td>True</td>\n",
       "      <td>False</td>\n",
       "      <td>False</td>\n",
       "      <td>False</td>\n",
       "    </tr>\n",
       "    <tr>\n",
       "      <th>afraid</th>\n",
       "      <td>False</td>\n",
       "      <td>False</td>\n",
       "      <td>True</td>\n",
       "      <td>False</td>\n",
       "    </tr>\n",
       "  </tbody>\n",
       "</table>\n",
       "</div>"
      ],
      "text/plain": [
       "            cinderella  jackandthebeanstalk  thefarmerandthebadger  \\\n",
       "able              True                False                   True   \n",
       "about            False                 True                   True   \n",
       "above             True                False                  False   \n",
       "abundantly        True                False                  False   \n",
       "account           True                False                   True   \n",
       "across           False                False                   True   \n",
       "adjust            True                False                  False   \n",
       "admired           True                False                  False   \n",
       "advised           True                False                  False   \n",
       "afraid           False                False                   True   \n",
       "\n",
       "            theprincessandthepea  \n",
       "able                       False  \n",
       "about                       True  \n",
       "above                      False  \n",
       "abundantly                 False  \n",
       "account                    False  \n",
       "across                     False  \n",
       "adjust                     False  \n",
       "admired                    False  \n",
       "advised                    False  \n",
       "afraid                     False  "
      ]
     },
     "execution_count": 6,
     "metadata": {},
     "output_type": "execute_result"
    }
   ],
   "source": [
    "for index, row in term_doc_df.iterrows():\n",
    "    if index in cinderella_words_uniq:\n",
    "       # print(type(index))\n",
    "        row['cinderella']=True\n",
    "    if index in jackandthebeanstalk_words_uniq:\n",
    "        row['jackandthebeanstalk']=True\n",
    "        #print(\"jackandthebeanstalk\")\n",
    "    if index in thefarmerandthebadger_words_uniq:\n",
    "        row['thefarmerandthebadger']=True\n",
    "        #print(\"thefarmerandthebadger\")\n",
    "    if index in theprincessandthepea_words_uniq:\n",
    "        row['theprincessandthepea']=True\n",
    "\n",
    "term_doc_df.fillna(False, inplace=True)\n",
    "term_doc_df.head(10)"
   ]
  },
  {
   "cell_type": "code",
   "execution_count": 7,
   "metadata": {},
   "outputs": [
    {
     "data": {
      "text/html": [
       "<div>\n",
       "<style scoped>\n",
       "    .dataframe tbody tr th:only-of-type {\n",
       "        vertical-align: middle;\n",
       "    }\n",
       "\n",
       "    .dataframe tbody tr th {\n",
       "        vertical-align: top;\n",
       "    }\n",
       "\n",
       "    .dataframe thead th {\n",
       "        text-align: right;\n",
       "    }\n",
       "</style>\n",
       "<table border=\"1\" class=\"dataframe\">\n",
       "  <thead>\n",
       "    <tr style=\"text-align: right;\">\n",
       "      <th></th>\n",
       "      <th>cinderella</th>\n",
       "      <th>jackandthebeanstalk</th>\n",
       "      <th>thefarmerandthebadger</th>\n",
       "      <th>theprincessandthepea</th>\n",
       "    </tr>\n",
       "  </thead>\n",
       "  <tbody>\n",
       "    <tr>\n",
       "      <th>count</th>\n",
       "      <td>1126</td>\n",
       "      <td>1126</td>\n",
       "      <td>1126</td>\n",
       "      <td>1126</td>\n",
       "    </tr>\n",
       "    <tr>\n",
       "      <th>unique</th>\n",
       "      <td>2</td>\n",
       "      <td>2</td>\n",
       "      <td>2</td>\n",
       "      <td>2</td>\n",
       "    </tr>\n",
       "    <tr>\n",
       "      <th>top</th>\n",
       "      <td>True</td>\n",
       "      <td>False</td>\n",
       "      <td>True</td>\n",
       "      <td>False</td>\n",
       "    </tr>\n",
       "    <tr>\n",
       "      <th>freq</th>\n",
       "      <td>635</td>\n",
       "      <td>944</td>\n",
       "      <td>583</td>\n",
       "      <td>976</td>\n",
       "    </tr>\n",
       "  </tbody>\n",
       "</table>\n",
       "</div>"
      ],
      "text/plain": [
       "       cinderella jackandthebeanstalk thefarmerandthebadger  \\\n",
       "count        1126                1126                  1126   \n",
       "unique          2                   2                     2   \n",
       "top          True               False                  True   \n",
       "freq          635                 944                   583   \n",
       "\n",
       "       theprincessandthepea  \n",
       "count                  1126  \n",
       "unique                    2  \n",
       "top                   False  \n",
       "freq                    976  "
      ]
     },
     "execution_count": 7,
     "metadata": {},
     "output_type": "execute_result"
    }
   ],
   "source": [
    "term_doc_df.describe()"
   ]
  },
  {
   "cell_type": "code",
   "execution_count": null,
   "metadata": {},
   "outputs": [],
   "source": []
  },
  {
   "cell_type": "code",
   "execution_count": null,
   "metadata": {},
   "outputs": [],
   "source": []
  },
  {
   "cell_type": "code",
   "execution_count": null,
   "metadata": {},
   "outputs": [],
   "source": []
  },
  {
   "cell_type": "markdown",
   "metadata": {},
   "source": [
    "### Perform the following Boolean Operations"
   ]
  },
  {
   "cell_type": "code",
   "execution_count": 8,
   "metadata": {},
   "outputs": [
    {
     "data": {
      "text/plain": [
       "cinderella               False\n",
       "jackandthebeanstalk      False\n",
       "thefarmerandthebadger     True\n",
       "theprincessandthepea     False\n",
       "dtype: bool"
      ]
     },
     "execution_count": 8,
     "metadata": {},
     "output_type": "execute_result"
    }
   ],
   "source": [
    "#term1 AND term2\n",
    "term_doc_df.loc['animal', :] & term_doc_df.loc['beautiful', :]"
   ]
  },
  {
   "cell_type": "code",
   "execution_count": null,
   "metadata": {},
   "outputs": [],
   "source": []
  },
  {
   "cell_type": "code",
   "execution_count": 9,
   "metadata": {},
   "outputs": [
    {
     "data": {
      "text/plain": [
       "cinderella               False\n",
       "jackandthebeanstalk      False\n",
       "thefarmerandthebadger    False\n",
       "theprincessandthepea     False\n",
       "dtype: bool"
      ]
     },
     "execution_count": 9,
     "metadata": {},
     "output_type": "execute_result"
    }
   ],
   "source": [
    "#term1 AND NOT (term2 OR term3)\n",
    "term_doc_df.loc['badger', :] & ~(term_doc_df.loc['animal', :] | term_doc_df.loc['country', :])"
   ]
  },
  {
   "cell_type": "markdown",
   "metadata": {},
   "source": [
    "### Creating posting list"
   ]
  },
  {
   "cell_type": "code",
   "execution_count": 11,
   "metadata": {},
   "outputs": [
    {
     "data": {
      "text/html": [
       "<div>\n",
       "<style scoped>\n",
       "    .dataframe tbody tr th:only-of-type {\n",
       "        vertical-align: middle;\n",
       "    }\n",
       "\n",
       "    .dataframe tbody tr th {\n",
       "        vertical-align: top;\n",
       "    }\n",
       "\n",
       "    .dataframe thead th {\n",
       "        text-align: right;\n",
       "    }\n",
       "</style>\n",
       "<table border=\"1\" class=\"dataframe\">\n",
       "  <thead>\n",
       "    <tr style=\"text-align: right;\">\n",
       "      <th></th>\n",
       "      <th>cinderella</th>\n",
       "      <th>jackandthebeanstalk</th>\n",
       "      <th>thefarmerandthebadger</th>\n",
       "      <th>theprincessandthepea</th>\n",
       "      <th>posting_list</th>\n",
       "    </tr>\n",
       "  </thead>\n",
       "  <tbody>\n",
       "    <tr>\n",
       "      <th>able</th>\n",
       "      <td>True</td>\n",
       "      <td>False</td>\n",
       "      <td>True</td>\n",
       "      <td>False</td>\n",
       "      <td>[cinderella, thefarmerandthebadger]</td>\n",
       "    </tr>\n",
       "    <tr>\n",
       "      <th>about</th>\n",
       "      <td>False</td>\n",
       "      <td>True</td>\n",
       "      <td>True</td>\n",
       "      <td>True</td>\n",
       "      <td>[jackandthebeanstalk, thefarmerandthebadger, t...</td>\n",
       "    </tr>\n",
       "    <tr>\n",
       "      <th>above</th>\n",
       "      <td>True</td>\n",
       "      <td>False</td>\n",
       "      <td>False</td>\n",
       "      <td>False</td>\n",
       "      <td>[cinderella]</td>\n",
       "    </tr>\n",
       "    <tr>\n",
       "      <th>abundantly</th>\n",
       "      <td>True</td>\n",
       "      <td>False</td>\n",
       "      <td>False</td>\n",
       "      <td>False</td>\n",
       "      <td>[cinderella]</td>\n",
       "    </tr>\n",
       "    <tr>\n",
       "      <th>account</th>\n",
       "      <td>True</td>\n",
       "      <td>False</td>\n",
       "      <td>True</td>\n",
       "      <td>False</td>\n",
       "      <td>[cinderella, thefarmerandthebadger]</td>\n",
       "    </tr>\n",
       "    <tr>\n",
       "      <th>across</th>\n",
       "      <td>False</td>\n",
       "      <td>False</td>\n",
       "      <td>True</td>\n",
       "      <td>False</td>\n",
       "      <td>[thefarmerandthebadger]</td>\n",
       "    </tr>\n",
       "    <tr>\n",
       "      <th>adjust</th>\n",
       "      <td>True</td>\n",
       "      <td>False</td>\n",
       "      <td>False</td>\n",
       "      <td>False</td>\n",
       "      <td>[cinderella]</td>\n",
       "    </tr>\n",
       "    <tr>\n",
       "      <th>admired</th>\n",
       "      <td>True</td>\n",
       "      <td>False</td>\n",
       "      <td>False</td>\n",
       "      <td>False</td>\n",
       "      <td>[cinderella]</td>\n",
       "    </tr>\n",
       "    <tr>\n",
       "      <th>advised</th>\n",
       "      <td>True</td>\n",
       "      <td>False</td>\n",
       "      <td>False</td>\n",
       "      <td>False</td>\n",
       "      <td>[cinderella]</td>\n",
       "    </tr>\n",
       "    <tr>\n",
       "      <th>afraid</th>\n",
       "      <td>False</td>\n",
       "      <td>False</td>\n",
       "      <td>True</td>\n",
       "      <td>False</td>\n",
       "      <td>[thefarmerandthebadger]</td>\n",
       "    </tr>\n",
       "  </tbody>\n",
       "</table>\n",
       "</div>"
      ],
      "text/plain": [
       "            cinderella  jackandthebeanstalk  thefarmerandthebadger  \\\n",
       "able              True                False                   True   \n",
       "about            False                 True                   True   \n",
       "above             True                False                  False   \n",
       "abundantly        True                False                  False   \n",
       "account           True                False                   True   \n",
       "across           False                False                   True   \n",
       "adjust            True                False                  False   \n",
       "admired           True                False                  False   \n",
       "advised           True                False                  False   \n",
       "afraid           False                False                   True   \n",
       "\n",
       "            theprincessandthepea  \\\n",
       "able                       False   \n",
       "about                       True   \n",
       "above                      False   \n",
       "abundantly                 False   \n",
       "account                    False   \n",
       "across                     False   \n",
       "adjust                     False   \n",
       "admired                    False   \n",
       "advised                    False   \n",
       "afraid                     False   \n",
       "\n",
       "                                                 posting_list  \n",
       "able                      [cinderella, thefarmerandthebadger]  \n",
       "about       [jackandthebeanstalk, thefarmerandthebadger, t...  \n",
       "above                                            [cinderella]  \n",
       "abundantly                                       [cinderella]  \n",
       "account                   [cinderella, thefarmerandthebadger]  \n",
       "across                                [thefarmerandthebadger]  \n",
       "adjust                                           [cinderella]  \n",
       "admired                                          [cinderella]  \n",
       "advised                                          [cinderella]  \n",
       "afraid                                [thefarmerandthebadger]  "
      ]
     },
     "execution_count": 11,
     "metadata": {},
     "output_type": "execute_result"
    }
   ],
   "source": [
    "term_doc_df['posting_list']=0\n",
    "term_doc_df['posting_list']=term_doc_df['posting_list'].astype(str)\n",
    "for index, row in term_doc_df.iterrows():\n",
    "    val=list(term_doc_df.columns[(row ==True)])\n",
    "    term_doc_df.at[index,'posting_list']= val\n",
    "     \n",
    "term_doc_df.head(10)"
   ]
  },
  {
   "cell_type": "code",
   "execution_count": 13,
   "metadata": {},
   "outputs": [
    {
     "data": {
      "text/plain": [
       "cinderella                                              True\n",
       "jackandthebeanstalk                                    False\n",
       "thefarmerandthebadger                                   True\n",
       "theprincessandthepea                                   False\n",
       "posting_list             [cinderella, thefarmerandthebadger]\n",
       "Name: account, dtype: object"
      ]
     },
     "execution_count": 13,
     "metadata": {},
     "output_type": "execute_result"
    }
   ],
   "source": [
    "term_doc_df.loc['account']"
   ]
  },
  {
   "cell_type": "code",
   "execution_count": 12,
   "metadata": {
    "tags": []
   },
   "outputs": [
    {
     "data": {
      "text/plain": [
       "cinderella                                                            True\n",
       "jackandthebeanstalk                                                   True\n",
       "thefarmerandthebadger                                                 True\n",
       "theprincessandthepea                                                  True\n",
       "posting_list             [cinderella, jackandthebeanstalk, thefarmerand...\n",
       "Name: asked, dtype: object"
      ]
     },
     "execution_count": 12,
     "metadata": {},
     "output_type": "execute_result"
    }
   ],
   "source": [
    "term_doc_df.loc['asked']"
   ]
  },
  {
   "cell_type": "code",
   "execution_count": null,
   "metadata": {},
   "outputs": [],
   "source": []
  }
 ],
 "metadata": {
  "kernelspec": {
   "display_name": "Python 3 (ipykernel)",
   "language": "python",
   "name": "python3"
  },
  "language_info": {
   "codemirror_mode": {
    "name": "ipython",
    "version": 3
   },
   "file_extension": ".py",
   "mimetype": "text/x-python",
   "name": "python",
   "nbconvert_exporter": "python",
   "pygments_lexer": "ipython3",
   "version": "3.9.7"
  }
 },
 "nbformat": 4,
 "nbformat_minor": 4
}
