{
 "cells": [
  {
   "cell_type": "code",
   "execution_count": 10,
   "id": "775c3ec4",
   "metadata": {},
   "outputs": [],
   "source": [
    "#Importing libraries\n",
    "import pandas as pd\n",
    "import numpy as np"
   ]
  },
  {
   "cell_type": "code",
   "execution_count": 11,
   "id": "a9c5996b",
   "metadata": {},
   "outputs": [],
   "source": [
    "#Reading dataset\n",
    "df = pd.read_csv(\"Iris.csv\")"
   ]
  },
  {
   "cell_type": "code",
   "execution_count": 12,
   "id": "0e7644f4",
   "metadata": {},
   "outputs": [
    {
     "data": {
      "text/plain": [
       "[('setosa', 'setosa'),\n",
       " ('setosa', 'setosa'),\n",
       " ('setosa', 'setosa'),\n",
       " ('versicolor', 'versicolor'),\n",
       " ('setosa', 'setosa'),\n",
       " ('versicolor', 'versicolor'),\n",
       " ('virginica', 'versicolor'),\n",
       " ('setosa', 'setosa'),\n",
       " ('setosa', 'setosa'),\n",
       " ('setosa', 'setosa'),\n",
       " ('virginica', 'virginica'),\n",
       " ('versicolor', 'versicolor'),\n",
       " ('versicolor', 'versicolor'),\n",
       " ('setosa', 'setosa'),\n",
       " ('virginica', 'virginica'),\n",
       " ('versicolor', 'versicolor'),\n",
       " ('setosa', 'setosa'),\n",
       " ('versicolor', 'versicolor'),\n",
       " ('setosa', 'setosa'),\n",
       " ('setosa', 'setosa'),\n",
       " ('setosa', 'setosa'),\n",
       " ('virginica', 'virginica'),\n",
       " ('virginica', 'virginica'),\n",
       " ('versicolor', 'versicolor'),\n",
       " ('versicolor', 'versicolor'),\n",
       " ('setosa', 'setosa'),\n",
       " ('virginica', 'virginica'),\n",
       " ('versicolor', 'versicolor'),\n",
       " ('versicolor', 'versicolor'),\n",
       " ('virginica', 'virginica'),\n",
       " ('setosa', 'setosa'),\n",
       " ('versicolor', 'versicolor'),\n",
       " ('setosa', 'setosa'),\n",
       " ('virginica', 'versicolor'),\n",
       " ('virginica', 'virginica'),\n",
       " ('versicolor', 'versicolor'),\n",
       " ('setosa', 'setosa'),\n",
       " ('versicolor', 'versicolor'),\n",
       " ('versicolor', 'versicolor'),\n",
       " ('setosa', 'setosa'),\n",
       " ('setosa', 'setosa'),\n",
       " ('setosa', 'setosa'),\n",
       " ('virginica', 'versicolor'),\n",
       " ('versicolor', 'versicolor'),\n",
       " ('virginica', 'versicolor')]"
      ]
     },
     "execution_count": 12,
     "metadata": {},
     "output_type": "execute_result"
    }
   ],
   "source": [
    "retrieved = df.loc[:,'retrieved'].to_numpy()\n",
    "gold = df.loc[:,'gold_standard'].to_numpy()\n",
    "matrix = list(zip(retrieved,gold))\n",
    "matrix"
   ]
  },
  {
   "cell_type": "markdown",
   "id": "7620ded5",
   "metadata": {},
   "source": [
    "# Overall Precision and Recall"
   ]
  },
  {
   "cell_type": "code",
   "execution_count": 19,
   "id": "c3149e4f",
   "metadata": {},
   "outputs": [],
   "source": [
    "def precision(matrix):\n",
    "    count = 0\n",
    "    for i in range(len(matrix)):\n",
    "        if(matrix[i][0]==matrix[i][1]):\n",
    "            count+=1\n",
    "    precision = count/len([i[0] for i in matrix])\n",
    "    return precision"
   ]
  },
  {
   "cell_type": "code",
   "execution_count": 20,
   "id": "943a52e3",
   "metadata": {},
   "outputs": [],
   "source": [
    "def recall(matrix):\n",
    "    count = 0\n",
    "    for i in range(len(matrix)):\n",
    "        if(matrix[i][0]==matrix[i][1]):\n",
    "            count+=1\n",
    "    recall = count/len([i[1] for i in matrix])\n",
    "    return recall"
   ]
  },
  {
   "cell_type": "markdown",
   "id": "ef86c890",
   "metadata": {},
   "source": [
    "# Precision and Recall of Each Class"
   ]
  },
  {
   "cell_type": "code",
   "execution_count": 16,
   "id": "59d7c559",
   "metadata": {},
   "outputs": [],
   "source": [
    "def precision2(matrix):\n",
    "    p_s = 0\n",
    "    p_vir = 0\n",
    "    p_ver = 0\n",
    "    for i in range(len(matrix)):\n",
    "        if(matrix[i][0]==matrix[i][1]):\n",
    "            if(matrix[i][0]=='setosa'):\n",
    "                p_s+=1\n",
    "            if(matrix[i][0]=='virginica'):\n",
    "                p_vir+=1\n",
    "            if(matrix[i][0]=='versicolor'):\n",
    "                p_ver+=1\n",
    "            \n",
    "    pr_s = p_s/([i[0] for i in matrix].count('setosa'))\n",
    "    pr_vir = p_vir/([i[0] for i in matrix].count('virginica'))\n",
    "    pr_ver = p_ver/([i[0] for i in matrix].count('versicolor'))\n",
    "    \n",
    "    print(\"Precision is:\")\n",
    "    print(pr_s)\n",
    "    print(pr_vir)\n",
    "    print(pr_ver)"
   ]
  },
  {
   "cell_type": "code",
   "execution_count": 17,
   "id": "7bceb65e",
   "metadata": {},
   "outputs": [],
   "source": [
    "def recall2(matrix):\n",
    "    r_s = 0\n",
    "    r_vir = 0\n",
    "    r_ver = 0\n",
    "    for i in range(len(matrix)):\n",
    "        if(matrix[i][0]==matrix[i][1]):\n",
    "            if(matrix[i][0]=='setosa'):\n",
    "                r_s+=1\n",
    "            if(matrix[i][0]=='virginica'):\n",
    "                r_vir+=1\n",
    "            if(matrix[i][0]=='versicolor'):\n",
    "                r_ver+=1\n",
    "            \n",
    "    re_s = r_s/([i[1] for i in matrix].count('setosa'))\n",
    "    re_vir = r_vir/([i[1] for i in matrix].count('virginica'))\n",
    "    re_ver = r_ver/([i[1] for i in matrix].count('versicolor'))\n",
    "    \n",
    "    print(\"Recall is:\")\n",
    "    print(re_s)\n",
    "    print(re_vir)\n",
    "    print(re_ver)"
   ]
  },
  {
   "cell_type": "code",
   "execution_count": 21,
   "id": "405eaa08",
   "metadata": {},
   "outputs": [
    {
     "data": {
      "text/plain": [
       "0.0"
      ]
     },
     "execution_count": 21,
     "metadata": {},
     "output_type": "execute_result"
    }
   ],
   "source": [
    "a = np.array(([19, 0,0], [0, 15,0], [0, 4, 7]))\n",
    "\n",
    "precision(a)\n",
    "recall(a)"
   ]
  },
  {
   "cell_type": "code",
   "execution_count": null,
   "id": "a936a0e8",
   "metadata": {},
   "outputs": [],
   "source": []
  },
  {
   "cell_type": "code",
   "execution_count": null,
   "id": "400b7090",
   "metadata": {},
   "outputs": [],
   "source": []
  }
 ],
 "metadata": {
  "kernelspec": {
   "display_name": "Python 3 (ipykernel)",
   "language": "python",
   "name": "python3"
  },
  "language_info": {
   "codemirror_mode": {
    "name": "ipython",
    "version": 3
   },
   "file_extension": ".py",
   "mimetype": "text/x-python",
   "name": "python",
   "nbconvert_exporter": "python",
   "pygments_lexer": "ipython3",
   "version": "3.9.7"
  }
 },
 "nbformat": 4,
 "nbformat_minor": 5
}
